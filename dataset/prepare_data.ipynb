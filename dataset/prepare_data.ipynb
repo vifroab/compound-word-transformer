{
 "cells": [
  {
   "cell_type": "code",
   "execution_count": null,
   "metadata": {
    "collapsed": true,
    "jupyter": {
     "outputs_hidden": true
    },
    "pycharm": {
     "is_executing": true
    }
   },
   "outputs": [],
   "source": [
    "import os\n",
    "\n",
    "directory_path = \"midi-transcribed\"\n",
    "\n",
    "# Iterate over filenames in the directory\n",
    "for filename in os.listdir(directory_path):\n",
    "    # Replace blank spaces and hyphens with underscores\n",
    "    new_filename = filename.replace(\" \", \"_\").replace(\"-\", \"_\")\n",
    "\n",
    "    # Get full file paths\n",
    "    original_path = os.path.join(directory_path, filename)\n",
    "    new_path = os.path.join(directory_path, new_filename)\n",
    "\n",
    "    # Rename the files\n",
    "    os.rename(original_path, new_path)\n",
    "\n",
    "print(\"Renaming completed!\")\n",
    "\n"
   ]
  },
  {
   "cell_type": "code",
   "execution_count": null,
   "outputs": [],
   "source": [
    "!python3 dataset/syncrhonizer"
   ],
   "metadata": {
    "collapsed": false
   }
  }
 ],
 "metadata": {
  "kernelspec": {
   "display_name": "Python 3 (ipykernel)",
   "language": "python",
   "name": "python3"
  },
  "language_info": {
   "codemirror_mode": {
    "name": "ipython",
    "version": 3
   },
   "file_extension": ".py",
   "mimetype": "text/x-python",
   "name": "python",
   "nbconvert_exporter": "python",
   "pygments_lexer": "ipython3",
   "version": "3.11.5"
  }
 },
 "nbformat": 4,
 "nbformat_minor": 4
}
